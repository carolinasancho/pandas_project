{
 "cells": [
  {
   "cell_type": "markdown",
   "id": "cb0fd2ee",
   "metadata": {},
   "source": [
    "![Ironhack logo](https://i.imgur.com/1QgrNNw.png)\n",
    "\n",
    "# SHARK ATTACK\n",
    "\n",
    "## Hipótese e Pergunta:\n",
    "- Homens surfistas de 20 a 30 anos são os que possuem maiores possibilidades de sofrerem ataques de tubarão\n",
    "- Qual mês que tem mais ataque de tubarão? (tubarão ataca mais na água quente ou em meses quentes tem mais gente na água e logo mais ataques de tubarão?"
   ]
  },
  {
   "cell_type": "code",
   "execution_count": 1,
   "id": "a038927a",
   "metadata": {},
   "outputs": [
    {
     "name": "stdout",
     "output_type": "stream",
     "text": [
      "Requirement already satisfied: seaborn in c:\\users\\carol\\anaconda3\\lib\\site-packages (0.11.2)\n",
      "Requirement already satisfied: matplotlib>=2.2 in c:\\users\\carol\\anaconda3\\lib\\site-packages (from seaborn) (3.4.3)\n",
      "Requirement already satisfied: pandas>=0.23 in c:\\users\\carol\\anaconda3\\lib\\site-packages (from seaborn) (1.3.4)\n",
      "Requirement already satisfied: scipy>=1.0 in c:\\users\\carol\\anaconda3\\lib\\site-packages (from seaborn) (1.7.1)\n",
      "Requirement already satisfied: numpy>=1.15 in c:\\users\\carol\\anaconda3\\lib\\site-packages (from seaborn) (1.22.1)\n",
      "Requirement already satisfied: kiwisolver>=1.0.1 in c:\\users\\carol\\anaconda3\\lib\\site-packages (from matplotlib>=2.2->seaborn) (1.3.1)\n",
      "Requirement already satisfied: python-dateutil>=2.7 in c:\\users\\carol\\anaconda3\\lib\\site-packages (from matplotlib>=2.2->seaborn) (2.8.2)\n",
      "Requirement already satisfied: cycler>=0.10 in c:\\users\\carol\\anaconda3\\lib\\site-packages (from matplotlib>=2.2->seaborn) (0.10.0)\n",
      "Requirement already satisfied: pyparsing>=2.2.1 in c:\\users\\carol\\anaconda3\\lib\\site-packages (from matplotlib>=2.2->seaborn) (3.0.4)\n",
      "Requirement already satisfied: pillow>=6.2.0 in c:\\users\\carol\\anaconda3\\lib\\site-packages (from matplotlib>=2.2->seaborn) (8.4.0)\n",
      "Requirement already satisfied: six in c:\\users\\carol\\anaconda3\\lib\\site-packages (from cycler>=0.10->matplotlib>=2.2->seaborn) (1.16.0)\n",
      "Requirement already satisfied: pytz>=2017.3 in c:\\users\\carol\\anaconda3\\lib\\site-packages (from pandas>=0.23->seaborn) (2021.3)\n"
     ]
    }
   ],
   "source": [
    "import pandas as pd\n",
    "import numpy as np\n",
    "import re\n",
    "!pip install seaborn\n",
    "import seaborn as sns\n"
   ]
  },
  {
   "cell_type": "code",
   "execution_count": 2,
   "id": "6aad76be",
   "metadata": {},
   "outputs": [],
   "source": [
    "df=pd.read_csv('attacks.csv', sep=',', index_col = 0, encoding='latin-1')"
   ]
  },
  {
   "cell_type": "code",
   "execution_count": 3,
   "id": "5f204209",
   "metadata": {},
   "outputs": [],
   "source": [
    "df_bkp = df.copy()"
   ]
  },
  {
   "cell_type": "markdown",
   "id": "c56d4b82",
   "metadata": {},
   "source": [
    "## Analisando os dados da planilha:"
   ]
  },
  {
   "cell_type": "code",
   "execution_count": 4,
   "id": "5d0f0a88",
   "metadata": {},
   "outputs": [
    {
     "data": {
      "text/plain": [
       "<AxesSubplot:ylabel='Case Number'>"
      ]
     },
     "execution_count": 4,
     "metadata": {},
     "output_type": "execute_result"
    },
    {
     "data": {
      "image/png": "[encoded data removed]",
      "text/plain": [
       "<Figure size 432x288 with 2 Axes>"
      ]
     },
     "metadata": {
      "needs_background": "light"
     },
     "output_type": "display_data"
    }
   ],
   "source": [
    "sns.heatmap(df.isnull())"
   ]
  },
  {
   "cell_type": "code",
   "execution_count": 5,
   "id": "4584c1c7",
   "metadata": {},
   "outputs": [
    {
     "data": {
      "text/html": [
       "<div>\n",
       "<style scoped>\n",
       "    .dataframe tbody tr th:only-of-type {\n",
       "        vertical-align: middle;\n",
       "    }\n",
       "\n",
       "    .dataframe tbody tr th {\n",
       "        vertical-align: top;\n",
       "    }\n",
       "\n",
       "    .dataframe thead th {\n",
       "        text-align: right;\n",
       "    }\n",
       "</style>\n",
       "<table border=\"1\" class=\"dataframe\">\n",
       "  <thead>\n",
       "    <tr style=\"text-align: right;\">\n",
       "      <th></th>\n",
       "      <th>Date</th>\n",
       "      <th>Year</th>\n",
       "      <th>Type</th>\n",
       "      <th>Country</th>\n",
       "      <th>Area</th>\n",
       "      <th>Location</th>\n",
       "      <th>Activity</th>\n",
       "      <th>Name</th>\n",
       "      <th>Sex</th>\n",
       "      <th>Age</th>\n",
       "      <th>...</th>\n",
       "      <th>Species</th>\n",
       "      <th>Investigator or Source</th>\n",
       "      <th>pdf</th>\n",
       "      <th>href formula</th>\n",
       "      <th>href</th>\n",
       "      <th>Case Number.1</th>\n",
       "      <th>Case Number.2</th>\n",
       "      <th>original order</th>\n",
       "      <th>Unnamed: 22</th>\n",
       "      <th>Unnamed: 23</th>\n",
       "    </tr>\n",
       "    <tr>\n",
       "      <th>Case Number</th>\n",
       "      <th></th>\n",
       "      <th></th>\n",
       "      <th></th>\n",
       "      <th></th>\n",
       "      <th></th>\n",
       "      <th></th>\n",
       "      <th></th>\n",
       "      <th></th>\n",
       "      <th></th>\n",
       "      <th></th>\n",
       "      <th></th>\n",
       "      <th></th>\n",
       "      <th></th>\n",
       "      <th></th>\n",
       "      <th></th>\n",
       "      <th></th>\n",
       "      <th></th>\n",
       "      <th></th>\n",
       "      <th></th>\n",
       "      <th></th>\n",
       "      <th></th>\n",
       "    </tr>\n",
       "  </thead>\n",
       "  <tbody>\n",
       "    <tr>\n",
       "      <th>2018.06.25</th>\n",
       "      <td>25-Jun-2018</td>\n",
       "      <td>2018.0</td>\n",
       "      <td>Boating</td>\n",
       "      <td>USA</td>\n",
       "      <td>California</td>\n",
       "      <td>Oceanside, San Diego County</td>\n",
       "      <td>Paddling</td>\n",
       "      <td>Julie Wolfe</td>\n",
       "      <td>F</td>\n",
       "      <td>57</td>\n",
       "      <td>...</td>\n",
       "      <td>White shark</td>\n",
       "      <td>R. Collier, GSAF</td>\n",
       "      <td>2018.06.25-Wolfe.pdf</td>\n",
       "      <td>http://sharkattackfile.net/spreadsheets/pdf_di...</td>\n",
       "      <td>http://sharkattackfile.net/spreadsheets/pdf_di...</td>\n",
       "      <td>2018.06.25</td>\n",
       "      <td>2018.06.25</td>\n",
       "      <td>6303.0</td>\n",
       "      <td>NaN</td>\n",
       "      <td>NaN</td>\n",
       "    </tr>\n",
       "    <tr>\n",
       "      <th>2018.06.18</th>\n",
       "      <td>18-Jun-2018</td>\n",
       "      <td>2018.0</td>\n",
       "      <td>Unprovoked</td>\n",
       "      <td>USA</td>\n",
       "      <td>Georgia</td>\n",
       "      <td>St. Simon Island, Glynn County</td>\n",
       "      <td>Standing</td>\n",
       "      <td>Adyson McNeely</td>\n",
       "      <td>F</td>\n",
       "      <td>11</td>\n",
       "      <td>...</td>\n",
       "      <td>NaN</td>\n",
       "      <td>K.McMurray, TrackingSharks.com</td>\n",
       "      <td>2018.06.18-McNeely.pdf</td>\n",
       "      <td>http://sharkattackfile.net/spreadsheets/pdf_di...</td>\n",
       "      <td>http://sharkattackfile.net/spreadsheets/pdf_di...</td>\n",
       "      <td>2018.06.18</td>\n",
       "      <td>2018.06.18</td>\n",
       "      <td>6302.0</td>\n",
       "      <td>NaN</td>\n",
       "      <td>NaN</td>\n",
       "    </tr>\n",
       "    <tr>\n",
       "      <th>2018.06.09</th>\n",
       "      <td>09-Jun-2018</td>\n",
       "      <td>2018.0</td>\n",
       "      <td>Invalid</td>\n",
       "      <td>USA</td>\n",
       "      <td>Hawaii</td>\n",
       "      <td>Habush, Oahu</td>\n",
       "      <td>Surfing</td>\n",
       "      <td>John Denges</td>\n",
       "      <td>M</td>\n",
       "      <td>48</td>\n",
       "      <td>...</td>\n",
       "      <td>NaN</td>\n",
       "      <td>K.McMurray, TrackingSharks.com</td>\n",
       "      <td>2018.06.09-Denges.pdf</td>\n",
       "      <td>http://sharkattackfile.net/spreadsheets/pdf_di...</td>\n",
       "      <td>http://sharkattackfile.net/spreadsheets/pdf_di...</td>\n",
       "      <td>2018.06.09</td>\n",
       "      <td>2018.06.09</td>\n",
       "      <td>6301.0</td>\n",
       "      <td>NaN</td>\n",
       "      <td>NaN</td>\n",
       "    </tr>\n",
       "    <tr>\n",
       "      <th>2018.06.08</th>\n",
       "      <td>08-Jun-2018</td>\n",
       "      <td>2018.0</td>\n",
       "      <td>Unprovoked</td>\n",
       "      <td>AUSTRALIA</td>\n",
       "      <td>New South Wales</td>\n",
       "      <td>Arrawarra Headland</td>\n",
       "      <td>Surfing</td>\n",
       "      <td>male</td>\n",
       "      <td>M</td>\n",
       "      <td>NaN</td>\n",
       "      <td>...</td>\n",
       "      <td>2 m shark</td>\n",
       "      <td>B. Myatt, GSAF</td>\n",
       "      <td>2018.06.08-Arrawarra.pdf</td>\n",
       "      <td>http://sharkattackfile.net/spreadsheets/pdf_di...</td>\n",
       "      <td>http://sharkattackfile.net/spreadsheets/pdf_di...</td>\n",
       "      <td>2018.06.08</td>\n",
       "      <td>2018.06.08</td>\n",
       "      <td>6300.0</td>\n",
       "      <td>NaN</td>\n",
       "      <td>NaN</td>\n",
       "    </tr>\n",
       "    <tr>\n",
       "      <th>2018.06.04</th>\n",
       "      <td>04-Jun-2018</td>\n",
       "      <td>2018.0</td>\n",
       "      <td>Provoked</td>\n",
       "      <td>MEXICO</td>\n",
       "      <td>Colima</td>\n",
       "      <td>La Ticla</td>\n",
       "      <td>Free diving</td>\n",
       "      <td>Gustavo Ramos</td>\n",
       "      <td>M</td>\n",
       "      <td>NaN</td>\n",
       "      <td>...</td>\n",
       "      <td>Tiger shark, 3m</td>\n",
       "      <td>A .Kipper</td>\n",
       "      <td>2018.06.04-Ramos.pdf</td>\n",
       "      <td>http://sharkattackfile.net/spreadsheets/pdf_di...</td>\n",
       "      <td>http://sharkattackfile.net/spreadsheets/pdf_di...</td>\n",
       "      <td>2018.06.04</td>\n",
       "      <td>2018.06.04</td>\n",
       "      <td>6299.0</td>\n",
       "      <td>NaN</td>\n",
       "      <td>NaN</td>\n",
       "    </tr>\n",
       "  </tbody>\n",
       "</table>\n",
       "<p>5 rows × 23 columns</p>\n",
       "</div>"
      ],
      "text/plain": [
       "                    Date    Year        Type    Country             Area  \\\n",
       "Case Number                                                                \n",
       "2018.06.25   25-Jun-2018  2018.0     Boating        USA       California   \n",
       "2018.06.18   18-Jun-2018  2018.0  Unprovoked        USA          Georgia   \n",
       "2018.06.09   09-Jun-2018  2018.0     Invalid        USA           Hawaii   \n",
       "2018.06.08   08-Jun-2018  2018.0  Unprovoked  AUSTRALIA  New South Wales   \n",
       "2018.06.04   04-Jun-2018  2018.0    Provoked     MEXICO           Colima   \n",
       "\n",
       "                                   Location     Activity             Name  \\\n",
       "Case Number                                                                 \n",
       "2018.06.25      Oceanside, San Diego County     Paddling      Julie Wolfe   \n",
       "2018.06.18   St. Simon Island, Glynn County     Standing  Adyson McNeely    \n",
       "2018.06.09                     Habush, Oahu      Surfing      John Denges   \n",
       "2018.06.08               Arrawarra Headland      Surfing             male   \n",
       "2018.06.04                         La Ticla  Free diving   Gustavo Ramos    \n",
       "\n",
       "            Sex   Age  ...         Species           Investigator or Source  \\\n",
       "Case Number            ...                                                    \n",
       "2018.06.25     F   57  ...      White shark                R. Collier, GSAF   \n",
       "2018.06.18     F   11  ...              NaN  K.McMurray, TrackingSharks.com   \n",
       "2018.06.09     M   48  ...              NaN  K.McMurray, TrackingSharks.com   \n",
       "2018.06.08     M  NaN  ...        2 m shark                  B. Myatt, GSAF   \n",
       "2018.06.04     M  NaN  ...  Tiger shark, 3m                       A .Kipper   \n",
       "\n",
       "                                  pdf  \\\n",
       "Case Number                             \n",
       "2018.06.25       2018.06.25-Wolfe.pdf   \n",
       "2018.06.18     2018.06.18-McNeely.pdf   \n",
       "2018.06.09      2018.06.09-Denges.pdf   \n",
       "2018.06.08   2018.06.08-Arrawarra.pdf   \n",
       "2018.06.04       2018.06.04-Ramos.pdf   \n",
       "\n",
       "                                                  href formula  \\\n",
       "Case Number                                                      \n",
       "2018.06.25   http://sharkattackfile.net/spreadsheets/pdf_di...   \n",
       "2018.06.18   http://sharkattackfile.net/spreadsheets/pdf_di...   \n",
       "2018.06.09   http://sharkattackfile.net/spreadsheets/pdf_di...   \n",
       "2018.06.08   http://sharkattackfile.net/spreadsheets/pdf_di...   \n",
       "2018.06.04   http://sharkattackfile.net/spreadsheets/pdf_di...   \n",
       "\n",
       "                                                          href Case Number.1  \\\n",
       "Case Number                                                                    \n",
       "2018.06.25   http://sharkattackfile.net/spreadsheets/pdf_di...    2018.06.25   \n",
       "2018.06.18   http://sharkattackfile.net/spreadsheets/pdf_di...    2018.06.18   \n",
       "2018.06.09   http://sharkattackfile.net/spreadsheets/pdf_di...    2018.06.09   \n",
       "2018.06.08   http://sharkattackfile.net/spreadsheets/pdf_di...    2018.06.08   \n",
       "2018.06.04   http://sharkattackfile.net/spreadsheets/pdf_di...    2018.06.04   \n",
       "\n",
       "            Case Number.2 original order Unnamed: 22 Unnamed: 23  \n",
       "Case Number                                                       \n",
       "2018.06.25     2018.06.25         6303.0         NaN         NaN  \n",
       "2018.06.18     2018.06.18         6302.0         NaN         NaN  \n",
       "2018.06.09     2018.06.09         6301.0         NaN         NaN  \n",
       "2018.06.08     2018.06.08         6300.0         NaN         NaN  \n",
       "2018.06.04     2018.06.04         6299.0         NaN         NaN  \n",
       "\n",
       "[5 rows x 23 columns]"
      ]
     },
     "execution_count": 5,
     "metadata": {},
     "output_type": "execute_result"
    }
   ],
   "source": [
    "df.head()"
   ]
  },
  {
   "cell_type": "code",
   "execution_count": 6,
   "id": "b2c73c0c",
   "metadata": {},
   "outputs": [
    {
     "data": {
      "text/plain": [
       "(25723, 23)"
      ]
     },
     "execution_count": 6,
     "metadata": {},
     "output_type": "execute_result"
    }
   ],
   "source": [
    "df.shape"
   ]
  },
  {
   "cell_type": "code",
   "execution_count": 7,
   "id": "0edbe7f4",
   "metadata": {},
   "outputs": [
    {
     "data": {
      "text/plain": [
       "Index(['Date', 'Year', 'Type', 'Country', 'Area', 'Location', 'Activity',\n",
       "       'Name', 'Sex ', 'Age', 'Injury', 'Fatal (Y/N)', 'Time', 'Species ',\n",
       "       'Investigator or Source', 'pdf', 'href formula', 'href',\n",
       "       'Case Number.1', 'Case Number.2', 'original order', 'Unnamed: 22',\n",
       "       'Unnamed: 23'],\n",
       "      dtype='object')"
      ]
     },
     "execution_count": 7,
     "metadata": {},
     "output_type": "execute_result"
    }
   ],
   "source": [
    "df.columns"
   ]
  },
  {
   "cell_type": "code",
   "execution_count": 8,
   "id": "e8103306",
   "metadata": {},
   "outputs": [
    {
     "name": "stdout",
     "output_type": "stream",
     "text": [
      "<class 'pandas.core.frame.DataFrame'>\n",
      "Index: 25723 entries, 2018.06.25 to xx\n",
      "Data columns (total 23 columns):\n",
      " #   Column                  Non-Null Count  Dtype  \n",
      "---  ------                  --------------  -----  \n",
      " 0   Date                    6302 non-null   object \n",
      " 1   Year                    6300 non-null   float64\n",
      " 2   Type                    6298 non-null   object \n",
      " 3   Country                 6252 non-null   object \n",
      " 4   Area                    5847 non-null   object \n",
      " 5   Location                5762 non-null   object \n",
      " 6   Activity                5758 non-null   object \n",
      " 7   Name                    6092 non-null   object \n",
      " 8   Sex                     5737 non-null   object \n",
      " 9   Age                     3471 non-null   object \n",
      " 10  Injury                  6274 non-null   object \n",
      " 11  Fatal (Y/N)             5763 non-null   object \n",
      " 12  Time                    2948 non-null   object \n",
      " 13  Species                 3464 non-null   object \n",
      " 14  Investigator or Source  6285 non-null   object \n",
      " 15  pdf                     6302 non-null   object \n",
      " 16  href formula            6301 non-null   object \n",
      " 17  href                    6302 non-null   object \n",
      " 18  Case Number.1           6302 non-null   object \n",
      " 19  Case Number.2           6302 non-null   object \n",
      " 20  original order          6309 non-null   float64\n",
      " 21  Unnamed: 22             1 non-null      object \n",
      " 22  Unnamed: 23             2 non-null      object \n",
      "dtypes: float64(2), object(21)\n",
      "memory usage: 4.7+ MB\n"
     ]
    }
   ],
   "source": [
    "df.info()"
   ]
  },
  {
   "cell_type": "markdown",
   "id": "a0cd2808",
   "metadata": {},
   "source": [
    "### Let's drop columns 21 and 22 with only one non-null element"
   ]
  },
  {
   "cell_type": "code",
   "execution_count": 9,
   "id": "d7c399e9",
   "metadata": {},
   "outputs": [],
   "source": [
    "df=df.drop(columns=['Unnamed: 22', 'Unnamed: 23'])"
   ]
  },
  {
   "cell_type": "markdown",
   "id": "f4d560b6",
   "metadata": {},
   "source": [
    "### 'Fixing' some columns"
   ]
  },
  {
   "cell_type": "code",
   "execution_count": 10,
   "id": "e0cd255a",
   "metadata": {},
   "outputs": [],
   "source": [
    "countrygrp = df.groupby(['Country'])"
   ]
  },
  {
   "cell_type": "code",
   "execution_count": 11,
   "id": "5d420345",
   "metadata": {},
   "outputs": [
    {
     "data": {
      "text/html": [
       "<div>\n",
       "<style scoped>\n",
       "    .dataframe tbody tr th:only-of-type {\n",
       "        vertical-align: middle;\n",
       "    }\n",
       "\n",
       "    .dataframe tbody tr th {\n",
       "        vertical-align: top;\n",
       "    }\n",
       "\n",
       "    .dataframe thead th {\n",
       "        text-align: right;\n",
       "    }\n",
       "</style>\n",
       "<table border=\"1\" class=\"dataframe\">\n",
       "  <thead>\n",
       "    <tr style=\"text-align: right;\">\n",
       "      <th></th>\n",
       "      <th>Date</th>\n",
       "      <th>Year</th>\n",
       "      <th>Type</th>\n",
       "      <th>Country</th>\n",
       "      <th>Area</th>\n",
       "      <th>Location</th>\n",
       "      <th>Activity</th>\n",
       "      <th>Name</th>\n",
       "      <th>Sex</th>\n",
       "      <th>Age</th>\n",
       "      <th>...</th>\n",
       "      <th>Fatal (Y/N)</th>\n",
       "      <th>Time</th>\n",
       "      <th>Species</th>\n",
       "      <th>Investigator or Source</th>\n",
       "      <th>pdf</th>\n",
       "      <th>href formula</th>\n",
       "      <th>href</th>\n",
       "      <th>Case Number.1</th>\n",
       "      <th>Case Number.2</th>\n",
       "      <th>original order</th>\n",
       "    </tr>\n",
       "    <tr>\n",
       "      <th>Case Number</th>\n",
       "      <th></th>\n",
       "      <th></th>\n",
       "      <th></th>\n",
       "      <th></th>\n",
       "      <th></th>\n",
       "      <th></th>\n",
       "      <th></th>\n",
       "      <th></th>\n",
       "      <th></th>\n",
       "      <th></th>\n",
       "      <th></th>\n",
       "      <th></th>\n",
       "      <th></th>\n",
       "      <th></th>\n",
       "      <th></th>\n",
       "      <th></th>\n",
       "      <th></th>\n",
       "      <th></th>\n",
       "      <th></th>\n",
       "      <th></th>\n",
       "      <th></th>\n",
       "    </tr>\n",
       "  </thead>\n",
       "  <tbody>\n",
       "    <tr>\n",
       "      <th>2018.06.25</th>\n",
       "      <td>25-Jun-2018</td>\n",
       "      <td>2018.0</td>\n",
       "      <td>Boating</td>\n",
       "      <td>USA</td>\n",
       "      <td>California</td>\n",
       "      <td>Oceanside, San Diego County</td>\n",
       "      <td>Paddling</td>\n",
       "      <td>Julie Wolfe</td>\n",
       "      <td>F</td>\n",
       "      <td>57</td>\n",
       "      <td>...</td>\n",
       "      <td>N</td>\n",
       "      <td>18h00</td>\n",
       "      <td>White shark</td>\n",
       "      <td>R. Collier, GSAF</td>\n",
       "      <td>2018.06.25-Wolfe.pdf</td>\n",
       "      <td>http://sharkattackfile.net/spreadsheets/pdf_di...</td>\n",
       "      <td>http://sharkattackfile.net/spreadsheets/pdf_di...</td>\n",
       "      <td>2018.06.25</td>\n",
       "      <td>2018.06.25</td>\n",
       "      <td>6303.0</td>\n",
       "    </tr>\n",
       "    <tr>\n",
       "      <th>2018.06.18</th>\n",
       "      <td>18-Jun-2018</td>\n",
       "      <td>2018.0</td>\n",
       "      <td>Unprovoked</td>\n",
       "      <td>USA</td>\n",
       "      <td>Georgia</td>\n",
       "      <td>St. Simon Island, Glynn County</td>\n",
       "      <td>Standing</td>\n",
       "      <td>Adyson McNeely</td>\n",
       "      <td>F</td>\n",
       "      <td>11</td>\n",
       "      <td>...</td>\n",
       "      <td>N</td>\n",
       "      <td>14h00  -15h00</td>\n",
       "      <td>NaN</td>\n",
       "      <td>K.McMurray, TrackingSharks.com</td>\n",
       "      <td>2018.06.18-McNeely.pdf</td>\n",
       "      <td>http://sharkattackfile.net/spreadsheets/pdf_di...</td>\n",
       "      <td>http://sharkattackfile.net/spreadsheets/pdf_di...</td>\n",
       "      <td>2018.06.18</td>\n",
       "      <td>2018.06.18</td>\n",
       "      <td>6302.0</td>\n",
       "    </tr>\n",
       "    <tr>\n",
       "      <th>2018.06.09</th>\n",
       "      <td>09-Jun-2018</td>\n",
       "      <td>2018.0</td>\n",
       "      <td>Invalid</td>\n",
       "      <td>USA</td>\n",
       "      <td>Hawaii</td>\n",
       "      <td>Habush, Oahu</td>\n",
       "      <td>Surfing</td>\n",
       "      <td>John Denges</td>\n",
       "      <td>M</td>\n",
       "      <td>48</td>\n",
       "      <td>...</td>\n",
       "      <td>N</td>\n",
       "      <td>07h45</td>\n",
       "      <td>NaN</td>\n",
       "      <td>K.McMurray, TrackingSharks.com</td>\n",
       "      <td>2018.06.09-Denges.pdf</td>\n",
       "      <td>http://sharkattackfile.net/spreadsheets/pdf_di...</td>\n",
       "      <td>http://sharkattackfile.net/spreadsheets/pdf_di...</td>\n",
       "      <td>2018.06.09</td>\n",
       "      <td>2018.06.09</td>\n",
       "      <td>6301.0</td>\n",
       "    </tr>\n",
       "    <tr>\n",
       "      <th>2018.05.27</th>\n",
       "      <td>27-May-2018</td>\n",
       "      <td>2018.0</td>\n",
       "      <td>Unprovoked</td>\n",
       "      <td>USA</td>\n",
       "      <td>Florida</td>\n",
       "      <td>Lighhouse Point Park, Ponce Inlet, Volusia County</td>\n",
       "      <td>Fishing</td>\n",
       "      <td>male</td>\n",
       "      <td>M</td>\n",
       "      <td>52</td>\n",
       "      <td>...</td>\n",
       "      <td>N</td>\n",
       "      <td>NaN</td>\n",
       "      <td>Lemon shark, 3'</td>\n",
       "      <td>K. McMurray, TrackingSharks.com</td>\n",
       "      <td>2018.05.27-Ponce.pdf</td>\n",
       "      <td>http://sharkattackfile.net/spreadsheets/pdf_di...</td>\n",
       "      <td>http://sharkattackfile.net/spreadsheets/pdf_di...</td>\n",
       "      <td>2018.05.27</td>\n",
       "      <td>2018.05.27</td>\n",
       "      <td>6296.0</td>\n",
       "    </tr>\n",
       "    <tr>\n",
       "      <th>2018.05.26.b</th>\n",
       "      <td>26-May-2018</td>\n",
       "      <td>2018.0</td>\n",
       "      <td>Unprovoked</td>\n",
       "      <td>USA</td>\n",
       "      <td>Florida</td>\n",
       "      <td>Cocoa Beach, Brevard  County</td>\n",
       "      <td>Walking</td>\n",
       "      <td>Cody High</td>\n",
       "      <td>M</td>\n",
       "      <td>15</td>\n",
       "      <td>...</td>\n",
       "      <td>N</td>\n",
       "      <td>17h00</td>\n",
       "      <td>Bull shark, 6'</td>\n",
       "      <td>K.McMurray, TrackingSharks.com</td>\n",
       "      <td>2018.05.26.b-High.pdf</td>\n",
       "      <td>http://sharkattackfile.net/spreadsheets/pdf_di...</td>\n",
       "      <td>http://sharkattackfile.net/spreadsheets/pdf_di...</td>\n",
       "      <td>2018.05.26.b</td>\n",
       "      <td>2018.05.26.b</td>\n",
       "      <td>6295.0</td>\n",
       "    </tr>\n",
       "    <tr>\n",
       "      <th>...</th>\n",
       "      <td>...</td>\n",
       "      <td>...</td>\n",
       "      <td>...</td>\n",
       "      <td>...</td>\n",
       "      <td>...</td>\n",
       "      <td>...</td>\n",
       "      <td>...</td>\n",
       "      <td>...</td>\n",
       "      <td>...</td>\n",
       "      <td>...</td>\n",
       "      <td>...</td>\n",
       "      <td>...</td>\n",
       "      <td>...</td>\n",
       "      <td>...</td>\n",
       "      <td>...</td>\n",
       "      <td>...</td>\n",
       "      <td>...</td>\n",
       "      <td>...</td>\n",
       "      <td>...</td>\n",
       "      <td>...</td>\n",
       "      <td>...</td>\n",
       "    </tr>\n",
       "    <tr>\n",
       "      <th>ND.0056</th>\n",
       "      <td>Before 1958</td>\n",
       "      <td>0.0</td>\n",
       "      <td>Unprovoked</td>\n",
       "      <td>USA</td>\n",
       "      <td>Florida</td>\n",
       "      <td>Palm Beach, Palm Beach County</td>\n",
       "      <td>Standing</td>\n",
       "      <td>Horton Chase</td>\n",
       "      <td>M</td>\n",
       "      <td>NaN</td>\n",
       "      <td>...</td>\n",
       "      <td>N</td>\n",
       "      <td>NaN</td>\n",
       "      <td>NaN</td>\n",
       "      <td>V.M. Coppleson (1956), p.255;  R.F. Hutton</td>\n",
       "      <td>ND-0056-HortonChase.pdf</td>\n",
       "      <td>http://sharkattackfile.net/spreadsheets/pdf_di...</td>\n",
       "      <td>http://sharkattackfile.net/spreadsheets/pdf_di...</td>\n",
       "      <td>ND.0056</td>\n",
       "      <td>ND.0056</td>\n",
       "      <td>54.0</td>\n",
       "    </tr>\n",
       "    <tr>\n",
       "      <th>ND.0019</th>\n",
       "      <td>Before 1921</td>\n",
       "      <td>0.0</td>\n",
       "      <td>Unprovoked</td>\n",
       "      <td>USA</td>\n",
       "      <td>Florida</td>\n",
       "      <td>Gadsden Point, Tampa Bay</td>\n",
       "      <td>Fishing</td>\n",
       "      <td>James Kelley</td>\n",
       "      <td>M</td>\n",
       "      <td>NaN</td>\n",
       "      <td>...</td>\n",
       "      <td>N</td>\n",
       "      <td>NaN</td>\n",
       "      <td>NaN</td>\n",
       "      <td>T. Helm, p.219</td>\n",
       "      <td>ND-0019-Kelley.pdf</td>\n",
       "      <td>http://sharkattackfile.net/spreadsheets/pdf_di...</td>\n",
       "      <td>http://sharkattackfile.net/spreadsheets/pdf_di...</td>\n",
       "      <td>ND.0019</td>\n",
       "      <td>ND.0019</td>\n",
       "      <td>20.0</td>\n",
       "    </tr>\n",
       "    <tr>\n",
       "      <th>ND.0014</th>\n",
       "      <td>Before 17-Jul-1916</td>\n",
       "      <td>0.0</td>\n",
       "      <td>Unprovoked</td>\n",
       "      <td>USA</td>\n",
       "      <td>North Carolina</td>\n",
       "      <td>Somewhere between Hatteras and Beaufort</td>\n",
       "      <td>Swimming</td>\n",
       "      <td>\"youthful male\"</td>\n",
       "      <td>M</td>\n",
       "      <td>NaN</td>\n",
       "      <td>...</td>\n",
       "      <td>N</td>\n",
       "      <td>NaN</td>\n",
       "      <td>NaN</td>\n",
       "      <td>C. Creswell, GSAF; Wilmington Star, 7/17/1916</td>\n",
       "      <td>ND-0014-pre1916-NorthCarolina.pdf</td>\n",
       "      <td>http://sharkattackfile.net/spreadsheets/pdf_di...</td>\n",
       "      <td>http://sharkattackfile.net/spreadsheets/pdf_di...</td>\n",
       "      <td>ND.0014</td>\n",
       "      <td>ND.0014</td>\n",
       "      <td>15.0</td>\n",
       "    </tr>\n",
       "    <tr>\n",
       "      <th>ND.0010</th>\n",
       "      <td>Circa 1862</td>\n",
       "      <td>0.0</td>\n",
       "      <td>Unprovoked</td>\n",
       "      <td>USA</td>\n",
       "      <td>Hawaii</td>\n",
       "      <td>Puna</td>\n",
       "      <td>NaN</td>\n",
       "      <td>A \"chiefess\"</td>\n",
       "      <td>F</td>\n",
       "      <td>NaN</td>\n",
       "      <td>...</td>\n",
       "      <td>N</td>\n",
       "      <td>NaN</td>\n",
       "      <td>NaN</td>\n",
       "      <td>Captain W. Young</td>\n",
       "      <td>ND-0010-Puna Hawaii.pdf</td>\n",
       "      <td>http://sharkattackfile.net/spreadsheets/pdf_di...</td>\n",
       "      <td>http://sharkattackfile.net/spreadsheets/pdf_di...</td>\n",
       "      <td>ND.0010</td>\n",
       "      <td>ND.0010</td>\n",
       "      <td>11.0</td>\n",
       "    </tr>\n",
       "    <tr>\n",
       "      <th>ND.0003</th>\n",
       "      <td>1900-1905</td>\n",
       "      <td>0.0</td>\n",
       "      <td>Unprovoked</td>\n",
       "      <td>USA</td>\n",
       "      <td>North Carolina</td>\n",
       "      <td>Ocracoke Inlet</td>\n",
       "      <td>Swimming</td>\n",
       "      <td>Coast Guard personnel</td>\n",
       "      <td>M</td>\n",
       "      <td>NaN</td>\n",
       "      <td>...</td>\n",
       "      <td>Y</td>\n",
       "      <td>NaN</td>\n",
       "      <td>NaN</td>\n",
       "      <td>F. Schwartz, p.23; C. Creswell, GSAF</td>\n",
       "      <td>ND-0003-Ocracoke_1900-1905.pdf</td>\n",
       "      <td>http://sharkattackfile.net/spreadsheets/pdf_di...</td>\n",
       "      <td>http://sharkattackfile.net/spreadsheets/pdf_di...</td>\n",
       "      <td>ND.0003</td>\n",
       "      <td>ND.0003</td>\n",
       "      <td>4.0</td>\n",
       "    </tr>\n",
       "  </tbody>\n",
       "</table>\n",
       "<p>2229 rows × 21 columns</p>\n",
       "</div>"
      ],
      "text/plain": [
       "                            Date    Year        Type Country             Area  \\\n",
       "Case Number                                                                     \n",
       "2018.06.25           25-Jun-2018  2018.0     Boating     USA       California   \n",
       "2018.06.18           18-Jun-2018  2018.0  Unprovoked     USA          Georgia   \n",
       "2018.06.09           09-Jun-2018  2018.0     Invalid     USA           Hawaii   \n",
       "2018.05.27           27-May-2018  2018.0  Unprovoked     USA          Florida   \n",
       "2018.05.26.b         26-May-2018  2018.0  Unprovoked     USA          Florida   \n",
       "...                          ...     ...         ...     ...              ...   \n",
       "ND.0056              Before 1958     0.0  Unprovoked     USA          Florida   \n",
       "ND.0019              Before 1921     0.0  Unprovoked     USA          Florida   \n",
       "ND.0014       Before 17-Jul-1916     0.0  Unprovoked     USA  North Carolina    \n",
       "ND.0010               Circa 1862     0.0  Unprovoked     USA           Hawaii   \n",
       "ND.0003                1900-1905     0.0  Unprovoked     USA   North Carolina   \n",
       "\n",
       "                                                       Location  Activity  \\\n",
       "Case Number                                                                 \n",
       "2018.06.25                          Oceanside, San Diego County  Paddling   \n",
       "2018.06.18                       St. Simon Island, Glynn County  Standing   \n",
       "2018.06.09                                         Habush, Oahu   Surfing   \n",
       "2018.05.27    Lighhouse Point Park, Ponce Inlet, Volusia County   Fishing   \n",
       "2018.05.26.b                       Cocoa Beach, Brevard  County   Walking   \n",
       "...                                                         ...       ...   \n",
       "ND.0056                           Palm Beach, Palm Beach County  Standing   \n",
       "ND.0019                                Gadsden Point, Tampa Bay   Fishing   \n",
       "ND.0014                 Somewhere between Hatteras and Beaufort  Swimming   \n",
       "ND.0010                                                    Puna       NaN   \n",
       "ND.0003                                          Ocracoke Inlet  Swimming   \n",
       "\n",
       "                               Name Sex   Age  ... Fatal (Y/N)           Time  \\\n",
       "Case Number                                    ...                              \n",
       "2018.06.25              Julie Wolfe    F   57  ...           N          18h00   \n",
       "2018.06.18          Adyson McNeely     F   11  ...           N  14h00  -15h00   \n",
       "2018.06.09              John Denges    M   48  ...           N          07h45   \n",
       "2018.05.27                     male    M   52  ...           N            NaN   \n",
       "2018.05.26.b              Cody High    M   15  ...           N          17h00   \n",
       "...                             ...  ...  ...  ...         ...            ...   \n",
       "ND.0056                Horton Chase    M  NaN  ...           N            NaN   \n",
       "ND.0019                James Kelley    M  NaN  ...           N            NaN   \n",
       "ND.0014             \"youthful male\"    M  NaN  ...           N            NaN   \n",
       "ND.0010                A \"chiefess\"    F  NaN  ...           N            NaN   \n",
       "ND.0003       Coast Guard personnel    M  NaN  ...           Y            NaN   \n",
       "\n",
       "                     Species                           Investigator or Source  \\\n",
       "Case Number                                                                     \n",
       "2018.06.25        White shark                                R. Collier, GSAF   \n",
       "2018.06.18                NaN                  K.McMurray, TrackingSharks.com   \n",
       "2018.06.09                NaN                  K.McMurray, TrackingSharks.com   \n",
       "2018.05.27    Lemon shark, 3'                 K. McMurray, TrackingSharks.com   \n",
       "2018.05.26.b   Bull shark, 6'                  K.McMurray, TrackingSharks.com   \n",
       "...                       ...                                             ...   \n",
       "ND.0056                   NaN      V.M. Coppleson (1956), p.255;  R.F. Hutton   \n",
       "ND.0019                   NaN                                  T. Helm, p.219   \n",
       "ND.0014                   NaN  C. Creswell, GSAF; Wilmington Star, 7/17/1916    \n",
       "ND.0010                   NaN                                Captain W. Young   \n",
       "ND.0003                   NaN            F. Schwartz, p.23; C. Creswell, GSAF   \n",
       "\n",
       "                                            pdf  \\\n",
       "Case Number                                       \n",
       "2018.06.25                 2018.06.25-Wolfe.pdf   \n",
       "2018.06.18               2018.06.18-McNeely.pdf   \n",
       "2018.06.09                2018.06.09-Denges.pdf   \n",
       "2018.05.27                 2018.05.27-Ponce.pdf   \n",
       "2018.05.26.b              2018.05.26.b-High.pdf   \n",
       "...                                         ...   \n",
       "ND.0056                 ND-0056-HortonChase.pdf   \n",
       "ND.0019                      ND-0019-Kelley.pdf   \n",
       "ND.0014       ND-0014-pre1916-NorthCarolina.pdf   \n",
       "ND.0010                 ND-0010-Puna Hawaii.pdf   \n",
       "ND.0003          ND-0003-Ocracoke_1900-1905.pdf   \n",
       "\n",
       "                                                   href formula  \\\n",
       "Case Number                                                       \n",
       "2018.06.25    http://sharkattackfile.net/spreadsheets/pdf_di...   \n",
       "2018.06.18    http://sharkattackfile.net/spreadsheets/pdf_di...   \n",
       "2018.06.09    http://sharkattackfile.net/spreadsheets/pdf_di...   \n",
       "2018.05.27    http://sharkattackfile.net/spreadsheets/pdf_di...   \n",
       "2018.05.26.b  http://sharkattackfile.net/spreadsheets/pdf_di...   \n",
       "...                                                         ...   \n",
       "ND.0056       http://sharkattackfile.net/spreadsheets/pdf_di...   \n",
       "ND.0019       http://sharkattackfile.net/spreadsheets/pdf_di...   \n",
       "ND.0014       http://sharkattackfile.net/spreadsheets/pdf_di...   \n",
       "ND.0010       http://sharkattackfile.net/spreadsheets/pdf_di...   \n",
       "ND.0003       http://sharkattackfile.net/spreadsheets/pdf_di...   \n",
       "\n",
       "                                                           href Case Number.1  \\\n",
       "Case Number                                                                     \n",
       "2018.06.25    http://sharkattackfile.net/spreadsheets/pdf_di...    2018.06.25   \n",
       "2018.06.18    http://sharkattackfile.net/spreadsheets/pdf_di...    2018.06.18   \n",
       "2018.06.09    http://sharkattackfile.net/spreadsheets/pdf_di...    2018.06.09   \n",
       "2018.05.27    http://sharkattackfile.net/spreadsheets/pdf_di...    2018.05.27   \n",
       "2018.05.26.b  http://sharkattackfile.net/spreadsheets/pdf_di...  2018.05.26.b   \n",
       "...                                                         ...           ...   \n",
       "ND.0056       http://sharkattackfile.net/spreadsheets/pdf_di...       ND.0056   \n",
       "ND.0019       http://sharkattackfile.net/spreadsheets/pdf_di...       ND.0019   \n",
       "ND.0014       http://sharkattackfile.net/spreadsheets/pdf_di...       ND.0014   \n",
       "ND.0010       http://sharkattackfile.net/spreadsheets/pdf_di...       ND.0010   \n",
       "ND.0003       http://sharkattackfile.net/spreadsheets/pdf_di...       ND.0003   \n",
       "\n",
       "             Case Number.2 original order  \n",
       "Case Number                                \n",
       "2018.06.25      2018.06.25         6303.0  \n",
       "2018.06.18      2018.06.18         6302.0  \n",
       "2018.06.09      2018.06.09         6301.0  \n",
       "2018.05.27      2018.05.27         6296.0  \n",
       "2018.05.26.b  2018.05.26.b         6295.0  \n",
       "...                    ...            ...  \n",
       "ND.0056            ND.0056           54.0  \n",
       "ND.0019            ND.0019           20.0  \n",
       "ND.0014            ND.0014           15.0  \n",
       "ND.0010            ND.0010           11.0  \n",
       "ND.0003            ND.0003            4.0  \n",
       "\n",
       "[2229 rows x 21 columns]"
      ]
     },
     "execution_count": 11,
     "metadata": {},
     "output_type": "execute_result"
    }
   ],
   "source": [
    "countrygrp.get_group('USA')"
   ]
  },
  {
   "cell_type": "code",
   "execution_count": 12,
   "id": "df58e23d",
   "metadata": {},
   "outputs": [
    {
     "data": {
      "text/plain": [
       "Country                     Activity                                                                                                                                  \n",
       " PHILIPPINES                USS Hoel DD 533 sunk on 10/24/1944 in the Battle off Samar. 2 crewmen were swimmng alongside a floater net &                                  1\n",
       " TONGA                      Five men on makeshift raft after their 10 m fishing boat  capsized and sank in rough seas. Survivors rescued after  7.5 hours in the water    2\n",
       "                            Scuba diving                                                                                                                                  1\n",
       "AFRICA                      Jumped into river                                                                                                                             1\n",
       "ALGERIA                     Swimming                                                                                                                                      1\n",
       "AMERICAN SAMOA              Cleaning hull of ship                                                                                                                         1\n",
       "                            Dived overboard & was swimming near stern of trawler                                                                                          1\n",
       "                            Swimming                                                                                                                                      1\n",
       "ANDAMAN / NICOBAR ISLANDAS  \"Climbing up to ship after repairing the stern in water\"                                                                                      1\n",
       "ANDAMAN ISLANDS             Fell overboard                                                                                                                                1\n",
       "ANGOLA                      Surfing                                                                                                                                       1\n",
       "ANTIGUA                     Swimming                                                                                                                                      1\n",
       "ARGENTINA                   Floating                                                                                                                                      1\n",
       "ARUBA                       Sea disaster                                                                                                                                  1\n",
       "ASIA?                       Swimming                                                                                                                                      1\n",
       "ATLANTIC OCEAN              Competing in the Woodvale Atlantic Rowing Race                                                                                                3\n",
       "                            Adrift on raft after their ship was sunk by an Axis raider                                                                                    1\n",
       "                            Fell or jumped overboard from the liner Rhynland                                                                                              1\n",
       "                            Fell overboard                                                                                                                                1\n",
       "                            Fell overboard from the Selim                                                                                                                 1\n",
       "Name: Activity, dtype: int64"
      ]
     },
     "execution_count": 12,
     "metadata": {},
     "output_type": "execute_result"
    }
   ],
   "source": [
    "countrygrp['Activity'].value_counts().head(20)"
   ]
  },
  {
   "cell_type": "code",
   "execution_count": 13,
   "id": "943bfb96",
   "metadata": {},
   "outputs": [
    {
     "ename": "KeyError",
     "evalue": "'Column not found: sex'",
     "output_type": "error",
     "traceback": [
      "\u001b[1;31m---------------------------------------------------------------------------\u001b[0m",
      "\u001b[1;31mKeyError\u001b[0m                                  Traceback (most recent call last)",
      "\u001b[1;32m~\\AppData\\Local\\Temp/ipykernel_21132/2086651199.py\u001b[0m in \u001b[0;36m<module>\u001b[1;34m\u001b[0m\n\u001b[1;32m----> 1\u001b[1;33m \u001b[0mcountrygrp\u001b[0m\u001b[1;33m[\u001b[0m\u001b[1;34m'sex'\u001b[0m\u001b[1;33m]\u001b[0m\u001b[1;33m.\u001b[0m\u001b[0mvalue_counts\u001b[0m\u001b[1;33m(\u001b[0m\u001b[1;33m)\u001b[0m\u001b[1;33m.\u001b[0m\u001b[0mloc\u001b[0m\u001b[1;33m[\u001b[0m\u001b[1;34m'BRAZIL'\u001b[0m\u001b[1;33m]\u001b[0m\u001b[1;33m\u001b[0m\u001b[1;33m\u001b[0m\u001b[0m\n\u001b[0m",
      "\u001b[1;32m~\\anaconda3\\lib\\site-packages\\pandas\\core\\groupby\\generic.py\u001b[0m in \u001b[0;36m__getitem__\u001b[1;34m(self, key)\u001b[0m\n\u001b[0;32m   1536\u001b[0m                 \u001b[0mstacklevel\u001b[0m\u001b[1;33m=\u001b[0m\u001b[1;36m2\u001b[0m\u001b[1;33m,\u001b[0m\u001b[1;33m\u001b[0m\u001b[1;33m\u001b[0m\u001b[0m\n\u001b[0;32m   1537\u001b[0m             )\n\u001b[1;32m-> 1538\u001b[1;33m         \u001b[1;32mreturn\u001b[0m \u001b[0msuper\u001b[0m\u001b[1;33m(\u001b[0m\u001b[1;33m)\u001b[0m\u001b[1;33m.\u001b[0m\u001b[0m__getitem__\u001b[0m\u001b[1;33m(\u001b[0m\u001b[0mkey\u001b[0m\u001b[1;33m)\u001b[0m\u001b[1;33m\u001b[0m\u001b[1;33m\u001b[0m\u001b[0m\n\u001b[0m\u001b[0;32m   1539\u001b[0m \u001b[1;33m\u001b[0m\u001b[0m\n\u001b[0;32m   1540\u001b[0m     \u001b[1;32mdef\u001b[0m \u001b[0m_gotitem\u001b[0m\u001b[1;33m(\u001b[0m\u001b[0mself\u001b[0m\u001b[1;33m,\u001b[0m \u001b[0mkey\u001b[0m\u001b[1;33m,\u001b[0m \u001b[0mndim\u001b[0m\u001b[1;33m:\u001b[0m \u001b[0mint\u001b[0m\u001b[1;33m,\u001b[0m \u001b[0msubset\u001b[0m\u001b[1;33m=\u001b[0m\u001b[1;32mNone\u001b[0m\u001b[1;33m)\u001b[0m\u001b[1;33m:\u001b[0m\u001b[1;33m\u001b[0m\u001b[1;33m\u001b[0m\u001b[0m\n",
      "\u001b[1;32m~\\anaconda3\\lib\\site-packages\\pandas\\core\\base.py\u001b[0m in \u001b[0;36m__getitem__\u001b[1;34m(self, key)\u001b[0m\n\u001b[0;32m    230\u001b[0m         \u001b[1;32melse\u001b[0m\u001b[1;33m:\u001b[0m\u001b[1;33m\u001b[0m\u001b[1;33m\u001b[0m\u001b[0m\n\u001b[0;32m    231\u001b[0m             \u001b[1;32mif\u001b[0m \u001b[0mkey\u001b[0m \u001b[1;32mnot\u001b[0m \u001b[1;32min\u001b[0m \u001b[0mself\u001b[0m\u001b[1;33m.\u001b[0m\u001b[0mobj\u001b[0m\u001b[1;33m:\u001b[0m\u001b[1;33m\u001b[0m\u001b[1;33m\u001b[0m\u001b[0m\n\u001b[1;32m--> 232\u001b[1;33m                 \u001b[1;32mraise\u001b[0m \u001b[0mKeyError\u001b[0m\u001b[1;33m(\u001b[0m\u001b[1;34mf\"Column not found: {key}\"\u001b[0m\u001b[1;33m)\u001b[0m\u001b[1;33m\u001b[0m\u001b[1;33m\u001b[0m\u001b[0m\n\u001b[0m\u001b[0;32m    233\u001b[0m             \u001b[0msubset\u001b[0m \u001b[1;33m=\u001b[0m \u001b[0mself\u001b[0m\u001b[1;33m.\u001b[0m\u001b[0mobj\u001b[0m\u001b[1;33m[\u001b[0m\u001b[0mkey\u001b[0m\u001b[1;33m]\u001b[0m\u001b[1;33m\u001b[0m\u001b[1;33m\u001b[0m\u001b[0m\n\u001b[0;32m    234\u001b[0m             \u001b[0mndim\u001b[0m \u001b[1;33m=\u001b[0m \u001b[0msubset\u001b[0m\u001b[1;33m.\u001b[0m\u001b[0mndim\u001b[0m\u001b[1;33m\u001b[0m\u001b[1;33m\u001b[0m\u001b[0m\n",
      "\u001b[1;31mKeyError\u001b[0m: 'Column not found: sex'"
     ]
    }
   ],
   "source": [
    "countrygrp['sex'].value_counts().loc['BRAZIL']"
   ]
  },
  {
   "cell_type": "code",
   "execution_count": null,
   "id": "186ab5b0",
   "metadata": {},
   "outputs": [],
   "source": [
    "df=df.drop(columns=['Unnamed: 22', 'Unnamed: 23'])"
   ]
  },
  {
   "cell_type": "code",
   "execution_count": null,
   "id": "d18670af",
   "metadata": {},
   "outputs": [],
   "source": [
    "df=df[df.Age.astype(str).str.isdigit()]"
   ]
  },
  {
   "cell_type": "code",
   "execution_count": null,
   "id": "5f1d8d14",
   "metadata": {},
   "outputs": [],
   "source": [
    "df['Age'] = df.Age.astype('int')"
   ]
  },
  {
   "cell_type": "code",
   "execution_count": null,
   "id": "dc2b59cb",
   "metadata": {},
   "outputs": [],
   "source": [
    "df.Activity.isna().sum()"
   ]
  },
  {
   "cell_type": "code",
   "execution_count": null,
   "id": "c754c47b",
   "metadata": {},
   "outputs": [],
   "source": [
    "df.Age.dtypes"
   ]
  },
  {
   "cell_type": "code",
   "execution_count": null,
   "id": "035f759e",
   "metadata": {},
   "outputs": [],
   "source": [
    "df = df.reset_index(drop=True)"
   ]
  },
  {
   "cell_type": "code",
   "execution_count": null,
   "id": "bba23fea",
   "metadata": {},
   "outputs": [],
   "source": [
    "df.shape"
   ]
  },
  {
   "cell_type": "code",
   "execution_count": null,
   "id": "cb8d161f",
   "metadata": {},
   "outputs": [],
   "source": [
    "df.Age.unique()"
   ]
  },
  {
   "cell_type": "code",
   "execution_count": null,
   "id": "a2b34a41",
   "metadata": {},
   "outputs": [],
   "source": [
    "df['Age'].describe()"
   ]
  },
  {
   "cell_type": "markdown",
   "id": "3d893060",
   "metadata": {},
   "source": [
    "SEX COLUMN"
   ]
  },
  {
   "cell_type": "code",
   "execution_count": null,
   "id": "fcc67345",
   "metadata": {},
   "outputs": [],
   "source": [
    "df.rename(columns={'Sex ':'sex'}, inplace=True)"
   ]
  },
  {
   "cell_type": "code",
   "execution_count": null,
   "id": "a6842d31",
   "metadata": {},
   "outputs": [],
   "source": [
    "df['sex'] = df['sex'].replace(['lli'], 'M')\n",
    "df['sex'] = df['sex'].replace(['M '], 'M')"
   ]
  },
  {
   "cell_type": "markdown",
   "id": "75527ec7",
   "metadata": {},
   "source": [
    "#### Function to show the month"
   ]
  },
  {
   "cell_type": "code",
   "execution_count": null,
   "id": "da59d29e",
   "metadata": {},
   "outputs": [],
   "source": [
    "def find_month(string):\n",
    "    months = [\"Jan\",\"Feb\",\"Mar\",\"Apr\",\"May\",\"Jun\",\"Jul\",\"Aug\",\"Sep\",\"Oct\",\"Nov\",\"Dec\"]\n",
    "    try:\n",
    "        for month in months:\n",
    "            if re.search(month,string):\n",
    "                return month\n",
    "    except TypeError:\n",
    "        return 'Unknown'"
   ]
  },
  {
   "cell_type": "code",
   "execution_count": null,
   "id": "097dfe16",
   "metadata": {},
   "outputs": [],
   "source": [
    "month = [(find_month(date)) for date in df.Date]\n",
    "print (month)"
   ]
  },
  {
   "cell_type": "code",
   "execution_count": null,
   "id": "3574cdd5",
   "metadata": {},
   "outputs": [],
   "source": [
    "df = df.assign(Month = month)"
   ]
  },
  {
   "cell_type": "code",
   "execution_count": null,
   "id": "c1aace7c",
   "metadata": {},
   "outputs": [],
   "source": [
    "df.Month.value_counts()"
   ]
  },
  {
   "cell_type": "code",
   "execution_count": null,
   "id": "63d1d648",
   "metadata": {},
   "outputs": [],
   "source": [
    "df = df[(df.Month =='Jan')| (df.Month =='Feb')| (df.Month =='Mar')| (df.Month =='Apr')| (df.Month =='May')| (df.Month =='Jun')| (df.Month =='Jul')| (df.Month =='Aug')| (df.Month =='Sep')| (df.Month =='Oct')| (df.Month =='Nov')| (df.Month =='Dec')]"
   ]
  },
  {
   "cell_type": "code",
   "execution_count": null,
   "id": "cb3faaed",
   "metadata": {},
   "outputs": [],
   "source": [
    "df.Month.value_counts(normalize=True).sort_values(ascending=False)"
   ]
  },
  {
   "cell_type": "markdown",
   "id": "e6b6b321",
   "metadata": {},
   "source": [
    "## Starting Analysis"
   ]
  },
  {
   "cell_type": "code",
   "execution_count": null,
   "id": "ce80fcce",
   "metadata": {},
   "outputs": [],
   "source": [
    "countrygrp = df.groupby(['Country'])"
   ]
  },
  {
   "cell_type": "code",
   "execution_count": null,
   "id": "58fc4583",
   "metadata": {},
   "outputs": [],
   "source": [
    "dfint.groupby(['sex'])[['Age']].mean().sort_values(by=['Age'])"
   ]
  },
  {
   "cell_type": "code",
   "execution_count": null,
   "id": "aeeb5df0",
   "metadata": {},
   "outputs": [],
   "source": [
    "countrygrp = dfint.groupby(['Country'])"
   ]
  },
  {
   "cell_type": "code",
   "execution_count": null,
   "id": "ae31e5d2",
   "metadata": {},
   "outputs": [],
   "source": [
    "countrygrp['Age'].mean()"
   ]
  },
  {
   "cell_type": "code",
   "execution_count": null,
   "id": "a9f436dc",
   "metadata": {},
   "outputs": [],
   "source": [
    "countrygrp['Age'].mean().loc['USA']"
   ]
  },
  {
   "cell_type": "code",
   "execution_count": null,
   "id": "75aab290",
   "metadata": {},
   "outputs": [],
   "source": [
    "countrygrp['Age'].mean().loc['AUSTRALIA']"
   ]
  },
  {
   "cell_type": "code",
   "execution_count": null,
   "id": "34f18f0e",
   "metadata": {
    "scrolled": true
   },
   "outputs": [],
   "source": [
    "countrygrp['Age'].agg(['mean','median','count']).sort_values(by='count',ascending=False)"
   ]
  },
  {
   "cell_type": "code",
   "execution_count": null,
   "id": "848cfef9",
   "metadata": {
    "scrolled": true
   },
   "outputs": [],
   "source": [
    "countrygrp['Age'].agg(['mean','median']).loc['USA']"
   ]
  },
  {
   "cell_type": "code",
   "execution_count": null,
   "id": "797beb7e",
   "metadata": {},
   "outputs": [],
   "source": [
    "countrygrp['Month'].count().sort_values(ascending=False)"
   ]
  },
  {
   "cell_type": "code",
   "execution_count": null,
   "id": "5c8d01e9",
   "metadata": {},
   "outputs": [],
   "source": [
    "countrygrp['Activity'].value_counts().sort_values(ascending=False)"
   ]
  },
  {
   "cell_type": "code",
   "execution_count": null,
   "id": "3a5aa72b",
   "metadata": {},
   "outputs": [],
   "source": [
    "df.Activity.value_counts(normalize=True).sort_values(ascending=False)"
   ]
  },
  {
   "cell_type": "code",
   "execution_count": null,
   "id": "de344967",
   "metadata": {},
   "outputs": [],
   "source": [
    "countrygrp['Month'].count().sort_values(ascending=False)"
   ]
  },
  {
   "cell_type": "code",
   "execution_count": null,
   "id": "c54543be",
   "metadata": {},
   "outputs": [],
   "source": [
    "actgrp = df.groupby(['Activity'])"
   ]
  },
  {
   "cell_type": "code",
   "execution_count": null,
   "id": "781d3d60",
   "metadata": {},
   "outputs": [],
   "source": [
    "actgrp['Age'].mean().sort_values(ascending=False).loc['Surfing']"
   ]
  },
  {
   "cell_type": "code",
   "execution_count": null,
   "id": "dedf3def",
   "metadata": {},
   "outputs": [],
   "source": [
    "df2 = df.groupby(['Country']).agg(Attacks=('Country','count')).sort_values(by='Attacks', ascending=False)"
   ]
  },
  {
   "cell_type": "code",
   "execution_count": null,
   "id": "9d7a6244",
   "metadata": {},
   "outputs": [],
   "source": [
    "df2['%'] = round((df2.Attacks/df2.Attacks.sum())*100,2)\n",
    "df2"
   ]
  },
  {
   "cell_type": "code",
   "execution_count": null,
   "id": "8635f460",
   "metadata": {},
   "outputs": [],
   "source": [
    "pd.options.display.min_rows = 100"
   ]
  },
  {
   "cell_type": "code",
   "execution_count": null,
   "id": "95bbb0fa",
   "metadata": {},
   "outputs": [],
   "source": [
    "df.groupby(['Country','Month']).agg(Attacks=('Country','count')).sort_values(by='Attacks', ascending=False)"
   ]
  },
  {
   "cell_type": "code",
   "execution_count": null,
   "id": "fa2212af",
   "metadata": {},
   "outputs": [],
   "source": [
    "df.groupby(['Country','Activity','Month']).agg(Attacks=('Country','count')).sort_values(by='Attacks', ascending=False)"
   ]
  },
  {
   "cell_type": "code",
   "execution_count": null,
   "id": "7b678fa5",
   "metadata": {},
   "outputs": [],
   "source": [
    "df.groupby(['Country','Month']).agg(Attacks=('Country','count'), Age=('Age','mean')).sort_values(by='Attacks', ascending=False)"
   ]
  },
  {
   "cell_type": "code",
   "execution_count": null,
   "id": "8f508983",
   "metadata": {},
   "outputs": [],
   "source": [
    "df.groupby(['Country','sex']).agg(Attacks=('Country','count'), Age=('Age','mean')).sort_values(by='Attacks', ascending=False)"
   ]
  },
  {
   "cell_type": "code",
   "execution_count": null,
   "id": "85559a31",
   "metadata": {},
   "outputs": [],
   "source": [
    "df.groupby(['Country','Activity','sex']).agg(Attacks=('Country','count'), Age=('Age','mean')).sort_values(by='Attacks', ascending=False)"
   ]
  },
  {
   "cell_type": "code",
   "execution_count": null,
   "id": "4c00ab94",
   "metadata": {},
   "outputs": [],
   "source": [
    "df.groupby(['Country','Month','sex']).agg(Attacks=('Country','count'), Age=('Age','mean')).sort_values(by='Attacks', ascending=False).head(30)"
   ]
  },
  {
   "cell_type": "code",
   "execution_count": null,
   "id": "995825cd",
   "metadata": {},
   "outputs": [],
   "source": [
    "df.groupby(['Activity','Country','Month','sex']).agg(Attacks=('Country','count'), Age=('Age','mean')).sort_values(by='Attacks', ascending=False).head(30)"
   ]
  },
  {
   "cell_type": "code",
   "execution_count": null,
   "id": "c68e3b9c",
   "metadata": {},
   "outputs": [],
   "source": []
  }
 ],
 "metadata": {
  "kernelspec": {
   "display_name": "Python 3 (ipykernel)",
   "language": "python",
   "name": "python3"
  },
  "language_info": {
   "codemirror_mode": {
    "name": "ipython",
    "version": 3
   },
   "file_extension": ".py",
   "mimetype": "text/x-python",
   "name": "python",
   "nbconvert_exporter": "python",
   "pygments_lexer": "ipython3",
   "version": "3.9.7"
  }
 },
 "nbformat": 4,
 "nbformat_minor": 5
}
